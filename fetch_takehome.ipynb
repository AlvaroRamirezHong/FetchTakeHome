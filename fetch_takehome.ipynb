{
 "cells": [
  {
   "cell_type": "markdown",
   "metadata": {},
   "source": [
    "## Fetch Data Analyst Take Home\n",
    "Three unstructured CSV files are provided along with the take home instructions. They contain data on users, transactions, and products. \n",
    "I will be using Python in this jupyter notebook for the exercises. Utilizing pandas/sqlite3 to load/transform the data and matplotlib/seaborn to visualize it."
   ]
  },
  {
   "cell_type": "code",
   "execution_count": 1,
   "metadata": {},
   "outputs": [],
   "source": [
    "import pandas as pd\n",
    "import matplotlib.pyplot as plt\n",
    "import seaborn as sns\n",
    "import sqlite3\n",
    "from datetime import datetime\n",
    "\n",
    "# set seaborn style\n",
    "sns.set_theme()\n",
    "# sns.set(font_scale=1.3)"
   ]
  },
  {
   "cell_type": "code",
   "execution_count": 2,
   "metadata": {},
   "outputs": [
    {
     "name": "stdout",
     "output_type": "stream",
     "text": [
      "Users shape: (100000, 6)\n",
      "Transactions shape: (50000, 8)\n",
      "Products shape: (845552, 7)\n"
     ]
    }
   ],
   "source": [
    "# Read CSV files\n",
    "users = pd.read_csv(\"users.csv\")\n",
    "transactions = pd.read_csv(\"transactions.csv\")\n",
    "products = pd.read_csv(\"products.csv\")\n",
    "\n",
    "# Print dataframe shapes\n",
    "print(\"Users shape:\", users.shape)\n",
    "print(\"Transactions shape:\", transactions.shape)\n",
    "print(\"Products shape:\", products.shape)"
   ]
  },
  {
   "cell_type": "markdown",
   "metadata": {},
   "source": [
    "## Exercise 1: Explore the Data\n",
    "Are there any data quality issues present?\n",
    "Are there any fields that are challenging to understand?"
   ]
  },
  {
   "cell_type": "code",
   "execution_count": 3,
   "metadata": {},
   "outputs": [
    {
     "name": "stdout",
     "output_type": "stream",
     "text": [
      "Index(['ID', 'CREATED_DATE', 'BIRTH_DATE', 'STATE', 'LANGUAGE', 'GENDER'], dtype='object')\n",
      "Index(['RECEIPT_ID', 'PURCHASE_DATE', 'SCAN_DATE', 'STORE_NAME', 'USER_ID',\n",
      "       'BARCODE', 'FINAL_QUANTITY', 'FINAL_SALE'],\n",
      "      dtype='object')\n",
      "Index(['CATEGORY_1', 'CATEGORY_2', 'CATEGORY_3', 'CATEGORY_4', 'MANUFACTURER',\n",
      "       'BRAND', 'BARCODE'],\n",
      "      dtype='object')\n"
     ]
    }
   ],
   "source": [
    "# Lets print the column names\n",
    "print(users.columns)\n",
    "print(transactions.columns)\n",
    "print(products.columns)"
   ]
  },
  {
   "cell_type": "code",
   "execution_count": 4,
   "metadata": {},
   "outputs": [
    {
     "name": "stdout",
     "output_type": "stream",
     "text": [
      "Number of duplicate rows: 0\n",
      "Number of duplicate IDs: 0\n"
     ]
    }
   ],
   "source": [
    "# Check for duplicate rows in user data\n",
    "user_duplicate_rows = users.duplicated().sum()\n",
    "print(f\"Number of duplicate rows: {user_duplicate_rows}\")\n",
    "\n",
    "# Check for duplicate ID in user data\n",
    "user_duplicate_ids = users.duplicated(subset=['ID']).sum()\n",
    "print(f\"Number of duplicate IDs: {user_duplicate_ids}\")"
   ]
  },
  {
   "cell_type": "code",
   "execution_count": 5,
   "metadata": {},
   "outputs": [
    {
     "name": "stdout",
     "output_type": "stream",
     "text": [
      "Unique states: ['CA' 'PA' 'FL' 'NC' 'NY' 'IN' nan 'OH' 'TX' 'NM' 'PR' 'CO' 'AZ' 'RI' 'MO'\n",
      " 'NJ' 'MA' 'TN' 'LA' 'NH' 'WI' 'IA' 'GA' 'VA' 'DC' 'KY' 'SC' 'MN' 'WV'\n",
      " 'DE' 'MI' 'IL' 'MS' 'WA' 'KS' 'CT' 'OR' 'UT' 'MD' 'OK' 'NE' 'NV' 'AL'\n",
      " 'AK' 'AR' 'HI' 'ME' 'ND' 'ID' 'WY' 'MT' 'SD' 'VT']\n"
     ]
    }
   ],
   "source": [
    "# Check unique state values\n",
    "print(\"Unique states:\", users[\"STATE\"].unique())"
   ]
  },
  {
   "cell_type": "code",
   "execution_count": 6,
   "metadata": {},
   "outputs": [
    {
     "name": "stdout",
     "output_type": "stream",
     "text": [
      "Unique languages: ['es-419' 'en' nan]\n"
     ]
    }
   ],
   "source": [
    "# Check unique language values\n",
    "print(\"Unique languages:\", users[\"LANGUAGE\"].unique())"
   ]
  },
  {
   "cell_type": "code",
   "execution_count": 7,
   "metadata": {},
   "outputs": [
    {
     "name": "stdout",
     "output_type": "stream",
     "text": [
      "Unique genders: ['female' nan 'male' 'non_binary' 'transgender' 'prefer_not_to_say'\n",
      " 'not_listed' 'Non-Binary' 'unknown' 'not_specified'\n",
      " \"My gender isn't listed\" 'Prefer not to say']\n"
     ]
    }
   ],
   "source": [
    "# Check unique gender values\n",
    "print(\"Unique genders:\", users[\"GENDER\"].unique())"
   ]
  },
  {
   "cell_type": "code",
   "execution_count": 68,
   "metadata": {},
   "outputs": [
    {
     "name": "stdout",
     "output_type": "stream",
     "text": [
      "ID               0.000\n",
      "CREATED_DATE     0.000\n",
      "BIRTH_DATE       3.675\n",
      "STATE            4.812\n",
      "GENDER           5.892\n",
      "LANGUAGE        30.508\n",
      "dtype: float64\n"
     ]
    },
    {
     "data": {
      "image/png": "[encoded data removed]",
      "text/plain": [
       "<Figure size 800x400 with 1 Axes>"
      ]
     },
     "metadata": {},
     "output_type": "display_data"
    }
   ],
   "source": [
    "# Calculate the percentage of missing values for each column\n",
    "missing_values = (users.isnull().sum() / len(users)) * 100\n",
    "\n",
    "# Sort values for better visualization\n",
    "missing_values = missing_values.sort_values()\n",
    "print(missing_values)\n",
    "\n",
    "# Plot using Seaborn\n",
    "plt.figure(figsize=(8, 4))\n",
    "sns.barplot(y=missing_values.index, x=missing_values.values)\n",
    "\n",
    "# Formatting\n",
    "plt.xlabel(\"Percentage of Missing Values\")\n",
    "plt.ylabel(\"Columns\")\n",
    "plt.title(\"Missing Data by Column\")\n",
    "# plt.xticks(rotation=45)  # Rotate labels for better readability\n",
    "\n",
    "plt.show()"
   ]
  },
  {
   "cell_type": "code",
   "execution_count": 9,
   "metadata": {},
   "outputs": [
    {
     "name": "stdout",
     "output_type": "stream",
     "text": [
      "Number of duplicate rows: 171\n",
      "Number of duplicate IDs: 25205\n"
     ]
    }
   ],
   "source": [
    "# Check for duplicate rows in transaction data\n",
    "transaction_duplicate_rows = transactions.duplicated().sum()\n",
    "print(f\"Number of duplicate rows: {transaction_duplicate_rows}\")\n",
    "\n",
    "# Check for duplicate (RECEIPT_ID, USER_ID, BARCODE) in transaction data\n",
    "transaction_duplicate_ids = transactions.duplicated(subset=[\"RECEIPT_ID\", \"USER_ID\", \"BARCODE\"]).sum()\n",
    "print(f\"Number of duplicate IDs: {transaction_duplicate_ids}\")"
   ]
  },
  {
   "cell_type": "code",
   "execution_count": 10,
   "metadata": {},
   "outputs": [
    {
     "data": {
      "text/html": [
       "<div>\n",
       "<style scoped>\n",
       "    .dataframe tbody tr th:only-of-type {\n",
       "        vertical-align: middle;\n",
       "    }\n",
       "\n",
       "    .dataframe tbody tr th {\n",
       "        vertical-align: top;\n",
       "    }\n",
       "\n",
       "    .dataframe thead th {\n",
       "        text-align: right;\n",
       "    }\n",
       "</style>\n",
       "<table border=\"1\" class=\"dataframe\">\n",
       "  <thead>\n",
       "    <tr style=\"text-align: right;\">\n",
       "      <th></th>\n",
       "      <th>RECEIPT_ID</th>\n",
       "      <th>PURCHASE_DATE</th>\n",
       "      <th>SCAN_DATE</th>\n",
       "      <th>STORE_NAME</th>\n",
       "      <th>USER_ID</th>\n",
       "      <th>BARCODE</th>\n",
       "      <th>FINAL_QUANTITY</th>\n",
       "      <th>FINAL_SALE</th>\n",
       "    </tr>\n",
       "  </thead>\n",
       "  <tbody>\n",
       "    <tr>\n",
       "      <th>0</th>\n",
       "      <td>0000d256-4041-4a3e-adc4-5623fb6e0c99</td>\n",
       "      <td>2024-08-21</td>\n",
       "      <td>2024-08-21 14:19:06.539 Z</td>\n",
       "      <td>WALMART</td>\n",
       "      <td>63b73a7f3d310dceeabd4758</td>\n",
       "      <td>1.530001e+10</td>\n",
       "      <td>1.00</td>\n",
       "      <td></td>\n",
       "    </tr>\n",
       "    <tr>\n",
       "      <th>41567</th>\n",
       "      <td>0000d256-4041-4a3e-adc4-5623fb6e0c99</td>\n",
       "      <td>2024-08-21</td>\n",
       "      <td>2024-08-21 14:19:06.539 Z</td>\n",
       "      <td>WALMART</td>\n",
       "      <td>63b73a7f3d310dceeabd4758</td>\n",
       "      <td>1.530001e+10</td>\n",
       "      <td>1.00</td>\n",
       "      <td>1.54</td>\n",
       "    </tr>\n",
       "    <tr>\n",
       "      <th>1</th>\n",
       "      <td>0001455d-7a92-4a7b-a1d2-c747af1c8fd3</td>\n",
       "      <td>2024-07-20</td>\n",
       "      <td>2024-07-20 09:50:24.206 Z</td>\n",
       "      <td>ALDI</td>\n",
       "      <td>62c08877baa38d1a1f6c211a</td>\n",
       "      <td>NaN</td>\n",
       "      <td>zero</td>\n",
       "      <td>1.49</td>\n",
       "    </tr>\n",
       "    <tr>\n",
       "      <th>39291</th>\n",
       "      <td>0001455d-7a92-4a7b-a1d2-c747af1c8fd3</td>\n",
       "      <td>2024-07-20</td>\n",
       "      <td>2024-07-20 09:50:24.206 Z</td>\n",
       "      <td>ALDI</td>\n",
       "      <td>62c08877baa38d1a1f6c211a</td>\n",
       "      <td>NaN</td>\n",
       "      <td>1.00</td>\n",
       "      <td>1.49</td>\n",
       "    </tr>\n",
       "    <tr>\n",
       "      <th>2</th>\n",
       "      <td>00017e0a-7851-42fb-bfab-0baa96e23586</td>\n",
       "      <td>2024-08-18</td>\n",
       "      <td>2024-08-19 15:38:56.813 Z</td>\n",
       "      <td>WALMART</td>\n",
       "      <td>60842f207ac8b7729e472020</td>\n",
       "      <td>7.874223e+10</td>\n",
       "      <td>1.00</td>\n",
       "      <td></td>\n",
       "    </tr>\n",
       "    <tr>\n",
       "      <th>25928</th>\n",
       "      <td>00017e0a-7851-42fb-bfab-0baa96e23586</td>\n",
       "      <td>2024-08-18</td>\n",
       "      <td>2024-08-19 15:38:56.813 Z</td>\n",
       "      <td>WALMART</td>\n",
       "      <td>60842f207ac8b7729e472020</td>\n",
       "      <td>7.874223e+10</td>\n",
       "      <td>1.00</td>\n",
       "      <td>2.54</td>\n",
       "    </tr>\n",
       "    <tr>\n",
       "      <th>3</th>\n",
       "      <td>000239aa-3478-453d-801e-66a82e39c8af</td>\n",
       "      <td>2024-06-18</td>\n",
       "      <td>2024-06-19 11:03:37.468 Z</td>\n",
       "      <td>FOOD LION</td>\n",
       "      <td>63fcd7cea4f8442c3386b589</td>\n",
       "      <td>7.833997e+11</td>\n",
       "      <td>zero</td>\n",
       "      <td>3.49</td>\n",
       "    </tr>\n",
       "    <tr>\n",
       "      <th>41475</th>\n",
       "      <td>000239aa-3478-453d-801e-66a82e39c8af</td>\n",
       "      <td>2024-06-18</td>\n",
       "      <td>2024-06-19 11:03:37.468 Z</td>\n",
       "      <td>FOOD LION</td>\n",
       "      <td>63fcd7cea4f8442c3386b589</td>\n",
       "      <td>7.833997e+11</td>\n",
       "      <td>1.00</td>\n",
       "      <td>3.49</td>\n",
       "    </tr>\n",
       "    <tr>\n",
       "      <th>4</th>\n",
       "      <td>00026b4c-dfe8-49dd-b026-4c2f0fd5c6a1</td>\n",
       "      <td>2024-07-04</td>\n",
       "      <td>2024-07-05 15:56:43.549 Z</td>\n",
       "      <td>RANDALLS</td>\n",
       "      <td>6193231ae9b3d75037b0f928</td>\n",
       "      <td>4.790050e+10</td>\n",
       "      <td>1.00</td>\n",
       "      <td></td>\n",
       "    </tr>\n",
       "    <tr>\n",
       "      <th>43233</th>\n",
       "      <td>00026b4c-dfe8-49dd-b026-4c2f0fd5c6a1</td>\n",
       "      <td>2024-07-04</td>\n",
       "      <td>2024-07-05 15:56:43.549 Z</td>\n",
       "      <td>RANDALLS</td>\n",
       "      <td>6193231ae9b3d75037b0f928</td>\n",
       "      <td>4.790050e+10</td>\n",
       "      <td>1.00</td>\n",
       "      <td>5.29</td>\n",
       "    </tr>\n",
       "  </tbody>\n",
       "</table>\n",
       "</div>"
      ],
      "text/plain": [
       "                                 RECEIPT_ID PURCHASE_DATE  \\\n",
       "0      0000d256-4041-4a3e-adc4-5623fb6e0c99    2024-08-21   \n",
       "41567  0000d256-4041-4a3e-adc4-5623fb6e0c99    2024-08-21   \n",
       "1      0001455d-7a92-4a7b-a1d2-c747af1c8fd3    2024-07-20   \n",
       "39291  0001455d-7a92-4a7b-a1d2-c747af1c8fd3    2024-07-20   \n",
       "2      00017e0a-7851-42fb-bfab-0baa96e23586    2024-08-18   \n",
       "25928  00017e0a-7851-42fb-bfab-0baa96e23586    2024-08-18   \n",
       "3      000239aa-3478-453d-801e-66a82e39c8af    2024-06-18   \n",
       "41475  000239aa-3478-453d-801e-66a82e39c8af    2024-06-18   \n",
       "4      00026b4c-dfe8-49dd-b026-4c2f0fd5c6a1    2024-07-04   \n",
       "43233  00026b4c-dfe8-49dd-b026-4c2f0fd5c6a1    2024-07-04   \n",
       "\n",
       "                       SCAN_DATE STORE_NAME                   USER_ID  \\\n",
       "0      2024-08-21 14:19:06.539 Z    WALMART  63b73a7f3d310dceeabd4758   \n",
       "41567  2024-08-21 14:19:06.539 Z    WALMART  63b73a7f3d310dceeabd4758   \n",
       "1      2024-07-20 09:50:24.206 Z       ALDI  62c08877baa38d1a1f6c211a   \n",
       "39291  2024-07-20 09:50:24.206 Z       ALDI  62c08877baa38d1a1f6c211a   \n",
       "2      2024-08-19 15:38:56.813 Z    WALMART  60842f207ac8b7729e472020   \n",
       "25928  2024-08-19 15:38:56.813 Z    WALMART  60842f207ac8b7729e472020   \n",
       "3      2024-06-19 11:03:37.468 Z  FOOD LION  63fcd7cea4f8442c3386b589   \n",
       "41475  2024-06-19 11:03:37.468 Z  FOOD LION  63fcd7cea4f8442c3386b589   \n",
       "4      2024-07-05 15:56:43.549 Z   RANDALLS  6193231ae9b3d75037b0f928   \n",
       "43233  2024-07-05 15:56:43.549 Z   RANDALLS  6193231ae9b3d75037b0f928   \n",
       "\n",
       "            BARCODE FINAL_QUANTITY FINAL_SALE  \n",
       "0      1.530001e+10           1.00             \n",
       "41567  1.530001e+10           1.00       1.54  \n",
       "1               NaN           zero       1.49  \n",
       "39291           NaN           1.00       1.49  \n",
       "2      7.874223e+10           1.00             \n",
       "25928  7.874223e+10           1.00       2.54  \n",
       "3      7.833997e+11           zero       3.49  \n",
       "41475  7.833997e+11           1.00       3.49  \n",
       "4      4.790050e+10           1.00             \n",
       "43233  4.790050e+10           1.00       5.29  "
      ]
     },
     "execution_count": 10,
     "metadata": {},
     "output_type": "execute_result"
    }
   ],
   "source": [
    "transactions.sort_values(by=[\"RECEIPT_ID\", \"USER_ID\", \"BARCODE\"]).head(10)"
   ]
  },
  {
   "cell_type": "code",
   "execution_count": 11,
   "metadata": {},
   "outputs": [
    {
     "name": "stdout",
     "output_type": "stream",
     "text": [
      "Unique store names: 954\n"
     ]
    }
   ],
   "source": [
    "# Check unique store name values\n",
    "print(\"Unique store names:\", transactions[\"STORE_NAME\"].unique().shape[0])"
   ]
  },
  {
   "cell_type": "code",
   "execution_count": 12,
   "metadata": {},
   "outputs": [
    {
     "name": "stdout",
     "output_type": "stream",
     "text": [
      "Unique quantities: ['1.00' 'zero' '2.00' '3.00' '4.00' '4.55' '2.83' '2.34' '0.46' '7.00'\n",
      " '18.00' '12.00' '5.00' '2.17' '0.23' '8.00' '1.35' '0.09' '2.58' '1.47'\n",
      " '16.00' '0.62' '1.24' '1.40' '0.51' '0.53' '1.69' '6.00' '2.39' '2.60'\n",
      " '10.00' '0.86' '1.54' '1.88' '2.93' '1.28' '0.65' '2.89' '1.44' '2.75'\n",
      " '1.81' '276.00' '0.87' '2.10' '3.33' '2.54' '2.20' '1.93' '1.34' '1.13'\n",
      " '2.19' '0.83' '2.61' '0.28' '1.50' '0.97' '0.24' '1.18' '6.22' '1.22'\n",
      " '1.23' '2.57' '1.07' '2.11' '0.48' '9.00' '3.11' '1.08' '5.53' '1.89'\n",
      " '0.01' '2.18' '1.99' '0.04' '2.25' '1.37' '3.02' '0.35' '0.99' '1.80'\n",
      " '3.24' '0.94' '2.04' '3.69' '0.70' '2.52' '2.27']\n"
     ]
    }
   ],
   "source": [
    "# Check unique quantity values\n",
    "print(\"Unique quantities:\", transactions[\"FINAL_QUANTITY\"].unique())"
   ]
  },
  {
   "cell_type": "code",
   "execution_count": 69,
   "metadata": {},
   "outputs": [
    {
     "name": "stdout",
     "output_type": "stream",
     "text": [
      "RECEIPT_ID        0.000\n",
      "PURCHASE_DATE     0.000\n",
      "SCAN_DATE         0.000\n",
      "STORE_NAME        0.000\n",
      "USER_ID           0.000\n",
      "FINAL_QUANTITY    0.000\n",
      "FINAL_SALE        0.000\n",
      "BARCODE           5.762\n",
      "dtype: float64\n"
     ]
    },
    {
     "data": {
      "image/png": "[encoded data removed]",
      "text/plain": [
       "<Figure size 800x400 with 1 Axes>"
      ]
     },
     "metadata": {},
     "output_type": "display_data"
    }
   ],
   "source": [
    "# Calculate the percentage of missing values for each column\n",
    "missing_values = (transactions.isnull().sum() / len(users)) * 100\n",
    "\n",
    "# Sort values for better visualization\n",
    "missing_values = missing_values.sort_values()\n",
    "print(missing_values)\n",
    "# Plot using Seaborn\n",
    "plt.figure(figsize=(8, 4))\n",
    "sns.barplot(y=missing_values.index, x=missing_values.values)\n",
    "\n",
    "# Formatting\n",
    "plt.xlabel(\"Percentage of Missing Values\")\n",
    "plt.ylabel(\"Columns\")\n",
    "plt.title(\"Missing Data by Column\")\n",
    "# plt.xticks(rotation=45)\n",
    "\n",
    "plt.show()"
   ]
  },
  {
   "cell_type": "code",
   "execution_count": 14,
   "metadata": {},
   "outputs": [
    {
     "name": "stdout",
     "output_type": "stream",
     "text": [
      "Number of duplicate rows: 215\n",
      "Number of duplicate IDs: 4209\n"
     ]
    }
   ],
   "source": [
    "# Check for duplicate rows in product data\n",
    "product_duplicate_rows = products.duplicated().sum()\n",
    "print(f\"Number of duplicate rows: {product_duplicate_rows}\")\n",
    "\n",
    "# Check for duplicate BARCODE in product data\n",
    "product_duplicate_bars = products.duplicated(subset=['BARCODE']).sum()\n",
    "print(f\"Number of duplicate IDs: {product_duplicate_bars}\")"
   ]
  },
  {
   "cell_type": "code",
   "execution_count": 15,
   "metadata": {},
   "outputs": [
    {
     "name": "stdout",
     "output_type": "stream",
     "text": [
      "Unique Category 1: ['Health & Wellness' 'Snacks' 'Beverages' 'Pantry' 'Alcohol'\n",
      " 'Apparel & Accessories' 'Restaurant' 'Needs Review' 'Dairy'\n",
      " 'Home & Garden' nan 'Household Supplies' 'Meat & Seafood' 'Deli & Bakery'\n",
      " 'Sporting Goods' 'Produce' 'Office & School' 'Frozen'\n",
      " 'Arts & Entertainment' 'Animals & Pet Supplies' 'Electronics' 'Beauty'\n",
      " 'Toys & Games' 'Mature' 'Vehicles & Parts' 'Baby & Toddler'\n",
      " 'Luggage & Bags' 'Media']\n"
     ]
    }
   ],
   "source": [
    "# Check unique category 1 values\n",
    "print(\"Unique Category 1:\", products[\"CATEGORY_1\"].unique())"
   ]
  },
  {
   "cell_type": "code",
   "execution_count": 16,
   "metadata": {},
   "outputs": [
    {
     "name": "stdout",
     "output_type": "stream",
     "text": [
      "Unique Category 2: 122\n"
     ]
    }
   ],
   "source": [
    "# Check unique category 2 values\n",
    "print(\"Unique Category 2:\", products[\"CATEGORY_2\"].unique().shape[0])"
   ]
  },
  {
   "cell_type": "code",
   "execution_count": 17,
   "metadata": {},
   "outputs": [
    {
     "name": "stdout",
     "output_type": "stream",
     "text": [
      "Unique Category 3: 345\n"
     ]
    }
   ],
   "source": [
    "# Check unique category 3 values\n",
    "print(\"Unique Category 3:\", products[\"CATEGORY_3\"].unique().shape[0])"
   ]
  },
  {
   "cell_type": "code",
   "execution_count": 18,
   "metadata": {},
   "outputs": [
    {
     "name": "stdout",
     "output_type": "stream",
     "text": [
      "Unique Category 4: 128\n"
     ]
    }
   ],
   "source": [
    "# Check unique category 4 values\n",
    "print(\"Unique Category 4:\", products[\"CATEGORY_4\"].unique().shape[0])"
   ]
  },
  {
   "cell_type": "code",
   "execution_count": 19,
   "metadata": {},
   "outputs": [
    {
     "name": "stdout",
     "output_type": "stream",
     "text": [
      "Unique Manufacturers: 4355\n"
     ]
    }
   ],
   "source": [
    "# Check unique manufacturer values\n",
    "print(\"Unique Manufacturers:\", products[\"MANUFACTURER\"].unique().shape[0])"
   ]
  },
  {
   "cell_type": "code",
   "execution_count": 20,
   "metadata": {},
   "outputs": [
    {
     "name": "stdout",
     "output_type": "stream",
     "text": [
      "Unique Brands: 8123\n"
     ]
    }
   ],
   "source": [
    "# Check unique brand values\n",
    "print(\"Unique Brands:\", products[\"BRAND\"].unique().shape[0])"
   ]
  },
  {
   "cell_type": "code",
   "execution_count": 70,
   "metadata": {},
   "outputs": [
    {
     "name": "stdout",
     "output_type": "stream",
     "text": [
      "CATEGORY_1       0.013128\n",
      "CATEGORY_2       0.168411\n",
      "BARCODE          0.476020\n",
      "CATEGORY_3       7.162895\n",
      "BRAND           26.783923\n",
      "MANUFACTURER    26.784160\n",
      "CATEGORY_4      92.021898\n",
      "dtype: float64\n"
     ]
    },
    {
     "data": {
      "image/png": "[encoded data removed]",
      "text/plain": [
       "<Figure size 800x400 with 1 Axes>"
      ]
     },
     "metadata": {},
     "output_type": "display_data"
    }
   ],
   "source": [
    "# Calculate the percentage of missing values for each column\n",
    "missing_values = (products.isnull().sum() / len(products)) * 100\n",
    "\n",
    "# Sort values for better visualization\n",
    "missing_values = missing_values.sort_values()\n",
    "print(missing_values)\n",
    "\n",
    "# Plot using Seaborn\n",
    "plt.figure(figsize=(8, 4))\n",
    "sns.barplot(y=missing_values.index, x=missing_values.values)\n",
    "\n",
    "# Formatting\n",
    "plt.xlabel(\"Percentage of Missing Values\")\n",
    "plt.ylabel(\"Columns\")\n",
    "plt.title(\"Missing Data by Column\")\n",
    "# plt.xticks(rotation=45)\n",
    "\n",
    "plt.show()"
   ]
  },
  {
   "cell_type": "code",
   "execution_count": 23,
   "metadata": {},
   "outputs": [
    {
     "name": "stderr",
     "output_type": "stream",
     "text": [
      "/Users/alvaro/Library/Python/3.7/lib/python/site-packages/ipykernel_launcher.py:3: SettingWithCopyWarning: \n",
      "A value is trying to be set on a copy of a slice from a DataFrame.\n",
      "Try using .loc[row_indexer,col_indexer] = value instead\n",
      "\n",
      "See the caveats in the documentation: https://pandas.pydata.org/pandas-docs/stable/user_guide/indexing.html#returning-a-view-versus-a-copy\n",
      "  This is separate from the ipykernel package so we can avoid doing imports until\n",
      "/Users/alvaro/Library/Python/3.7/lib/python/site-packages/ipykernel_launcher.py:4: SettingWithCopyWarning: \n",
      "A value is trying to be set on a copy of a slice from a DataFrame.\n",
      "Try using .loc[row_indexer,col_indexer] = value instead\n",
      "\n",
      "See the caveats in the documentation: https://pandas.pydata.org/pandas-docs/stable/user_guide/indexing.html#returning-a-view-versus-a-copy\n",
      "  after removing the cwd from sys.path.\n"
     ]
    }
   ],
   "source": [
    "new_transactions = transactions[transactions[\"FINAL_QUANTITY\"] != \"zero\"]\n",
    "\n",
    "new_transactions[\"FINAL_QUANTITY\"] = pd.to_numeric(new_transactions[\"FINAL_QUANTITY\"], errors=\"coerce\")\n",
    "new_transactions[\"FINAL_SALE\"] = pd.to_numeric(new_transactions[\"FINAL_SALE\"], errors=\"coerce\")\n",
    "\n",
    "new_transactions = new_transactions.dropna(subset=[\"FINAL_QUANTITY\"])\n",
    "new_transactions = new_transactions.dropna(subset=[\"FINAL_SALE\"])\n",
    "\n",
    "# Drop exact duplicate rows\n",
    "new_transactions = new_transactions.drop_duplicates()\n",
    "\n",
    "# Drop duplicates based on \"RECEIPT_ID\", \"USER_ID\", \"BARCODE\", keeping the first occurrence\n",
    "new_transactions = new_transactions.drop_duplicates(subset=[\"RECEIPT_ID\", \"USER_ID\", \"BARCODE\"], keep=\"first\")"
   ]
  },
  {
   "cell_type": "code",
   "execution_count": 24,
   "metadata": {},
   "outputs": [
    {
     "name": "stdout",
     "output_type": "stream",
     "text": [
      "Number of duplicate rows: 0\n",
      "Number of duplicate IDs: 0\n",
      "(24795, 8)\n"
     ]
    }
   ],
   "source": [
    "# Check for duplicate rows in transaction data\n",
    "new_transaction_duplicate_rows = new_transactions.duplicated().sum()\n",
    "print(f\"Number of duplicate rows: {new_transaction_duplicate_rows}\")\n",
    "\n",
    "# Check for duplicate (RECEIPT_ID, USER_ID, BARCODE) in transaction data\n",
    "new_transaction_duplicate_ids = new_transactions.duplicated(subset=[\"RECEIPT_ID\", \"USER_ID\", \"BARCODE\"]).sum()\n",
    "print(f\"Number of duplicate IDs: {new_transaction_duplicate_ids}\")\n",
    "\n",
    "print(new_transactions.shape)"
   ]
  },
  {
   "cell_type": "code",
   "execution_count": 25,
   "metadata": {},
   "outputs": [
    {
     "data": {
      "text/html": [
       "<div>\n",
       "<style scoped>\n",
       "    .dataframe tbody tr th:only-of-type {\n",
       "        vertical-align: middle;\n",
       "    }\n",
       "\n",
       "    .dataframe tbody tr th {\n",
       "        vertical-align: top;\n",
       "    }\n",
       "\n",
       "    .dataframe thead th {\n",
       "        text-align: right;\n",
       "    }\n",
       "</style>\n",
       "<table border=\"1\" class=\"dataframe\">\n",
       "  <thead>\n",
       "    <tr style=\"text-align: right;\">\n",
       "      <th></th>\n",
       "      <th>RECEIPT_ID</th>\n",
       "      <th>PURCHASE_DATE</th>\n",
       "      <th>SCAN_DATE</th>\n",
       "      <th>STORE_NAME</th>\n",
       "      <th>USER_ID</th>\n",
       "      <th>BARCODE</th>\n",
       "      <th>FINAL_QUANTITY</th>\n",
       "      <th>FINAL_SALE</th>\n",
       "    </tr>\n",
       "  </thead>\n",
       "  <tbody>\n",
       "    <tr>\n",
       "      <th>41567</th>\n",
       "      <td>0000d256-4041-4a3e-adc4-5623fb6e0c99</td>\n",
       "      <td>2024-08-21</td>\n",
       "      <td>2024-08-21 14:19:06.539 Z</td>\n",
       "      <td>WALMART</td>\n",
       "      <td>63b73a7f3d310dceeabd4758</td>\n",
       "      <td>1.530001e+10</td>\n",
       "      <td>1.0</td>\n",
       "      <td>1.54</td>\n",
       "    </tr>\n",
       "    <tr>\n",
       "      <th>39291</th>\n",
       "      <td>0001455d-7a92-4a7b-a1d2-c747af1c8fd3</td>\n",
       "      <td>2024-07-20</td>\n",
       "      <td>2024-07-20 09:50:24.206 Z</td>\n",
       "      <td>ALDI</td>\n",
       "      <td>62c08877baa38d1a1f6c211a</td>\n",
       "      <td>NaN</td>\n",
       "      <td>1.0</td>\n",
       "      <td>1.49</td>\n",
       "    </tr>\n",
       "    <tr>\n",
       "      <th>25928</th>\n",
       "      <td>00017e0a-7851-42fb-bfab-0baa96e23586</td>\n",
       "      <td>2024-08-18</td>\n",
       "      <td>2024-08-19 15:38:56.813 Z</td>\n",
       "      <td>WALMART</td>\n",
       "      <td>60842f207ac8b7729e472020</td>\n",
       "      <td>7.874223e+10</td>\n",
       "      <td>1.0</td>\n",
       "      <td>2.54</td>\n",
       "    </tr>\n",
       "    <tr>\n",
       "      <th>41475</th>\n",
       "      <td>000239aa-3478-453d-801e-66a82e39c8af</td>\n",
       "      <td>2024-06-18</td>\n",
       "      <td>2024-06-19 11:03:37.468 Z</td>\n",
       "      <td>FOOD LION</td>\n",
       "      <td>63fcd7cea4f8442c3386b589</td>\n",
       "      <td>7.833997e+11</td>\n",
       "      <td>1.0</td>\n",
       "      <td>3.49</td>\n",
       "    </tr>\n",
       "    <tr>\n",
       "      <th>43233</th>\n",
       "      <td>00026b4c-dfe8-49dd-b026-4c2f0fd5c6a1</td>\n",
       "      <td>2024-07-04</td>\n",
       "      <td>2024-07-05 15:56:43.549 Z</td>\n",
       "      <td>RANDALLS</td>\n",
       "      <td>6193231ae9b3d75037b0f928</td>\n",
       "      <td>4.790050e+10</td>\n",
       "      <td>1.0</td>\n",
       "      <td>5.29</td>\n",
       "    </tr>\n",
       "    <tr>\n",
       "      <th>40388</th>\n",
       "      <td>0002d8cd-1701-4cdd-a524-b70402e2dbc0</td>\n",
       "      <td>2024-06-24</td>\n",
       "      <td>2024-06-24 19:44:54.247 Z</td>\n",
       "      <td>WALMART</td>\n",
       "      <td>5dcc6c510040a012b8e76924</td>\n",
       "      <td>6.811314e+11</td>\n",
       "      <td>1.0</td>\n",
       "      <td>1.46</td>\n",
       "    </tr>\n",
       "    <tr>\n",
       "      <th>47862</th>\n",
       "      <td>000550b2-1480-4c07-950f-ff601f242152</td>\n",
       "      <td>2024-07-06</td>\n",
       "      <td>2024-07-06 19:27:48.586 Z</td>\n",
       "      <td>WALMART</td>\n",
       "      <td>5f850bc9cf9431165f3ac175</td>\n",
       "      <td>4.920091e+10</td>\n",
       "      <td>1.0</td>\n",
       "      <td>3.12</td>\n",
       "    </tr>\n",
       "    <tr>\n",
       "      <th>36036</th>\n",
       "      <td>00096c49-8b04-42f9-88ce-941c5e06c4a7</td>\n",
       "      <td>2024-08-19</td>\n",
       "      <td>2024-08-21 17:35:21.902 Z</td>\n",
       "      <td>TARGET</td>\n",
       "      <td>6144f4f1f3ef696919f54b5c</td>\n",
       "      <td>7.830007e+10</td>\n",
       "      <td>1.0</td>\n",
       "      <td>3.59</td>\n",
       "    </tr>\n",
       "    <tr>\n",
       "      <th>41970</th>\n",
       "      <td>000e1d35-15e5-46c6-b6b3-33653ed3d27e</td>\n",
       "      <td>2024-08-13</td>\n",
       "      <td>2024-08-13 18:21:07.931 Z</td>\n",
       "      <td>WALMART</td>\n",
       "      <td>61a6d926f998e47aad33db66</td>\n",
       "      <td>5.200001e+10</td>\n",
       "      <td>1.0</td>\n",
       "      <td>0.98</td>\n",
       "    </tr>\n",
       "    <tr>\n",
       "      <th>40976</th>\n",
       "      <td>0010d87d-1ad2-4e5e-9a25-cec736919d15</td>\n",
       "      <td>2024-08-04</td>\n",
       "      <td>2024-08-04 18:01:47.787 Z</td>\n",
       "      <td>ALDI</td>\n",
       "      <td>66686fc2e04f743a096ea808</td>\n",
       "      <td>NaN</td>\n",
       "      <td>1.0</td>\n",
       "      <td>2.29</td>\n",
       "    </tr>\n",
       "  </tbody>\n",
       "</table>\n",
       "</div>"
      ],
      "text/plain": [
       "                                 RECEIPT_ID PURCHASE_DATE  \\\n",
       "41567  0000d256-4041-4a3e-adc4-5623fb6e0c99    2024-08-21   \n",
       "39291  0001455d-7a92-4a7b-a1d2-c747af1c8fd3    2024-07-20   \n",
       "25928  00017e0a-7851-42fb-bfab-0baa96e23586    2024-08-18   \n",
       "41475  000239aa-3478-453d-801e-66a82e39c8af    2024-06-18   \n",
       "43233  00026b4c-dfe8-49dd-b026-4c2f0fd5c6a1    2024-07-04   \n",
       "40388  0002d8cd-1701-4cdd-a524-b70402e2dbc0    2024-06-24   \n",
       "47862  000550b2-1480-4c07-950f-ff601f242152    2024-07-06   \n",
       "36036  00096c49-8b04-42f9-88ce-941c5e06c4a7    2024-08-19   \n",
       "41970  000e1d35-15e5-46c6-b6b3-33653ed3d27e    2024-08-13   \n",
       "40976  0010d87d-1ad2-4e5e-9a25-cec736919d15    2024-08-04   \n",
       "\n",
       "                       SCAN_DATE STORE_NAME                   USER_ID  \\\n",
       "41567  2024-08-21 14:19:06.539 Z    WALMART  63b73a7f3d310dceeabd4758   \n",
       "39291  2024-07-20 09:50:24.206 Z       ALDI  62c08877baa38d1a1f6c211a   \n",
       "25928  2024-08-19 15:38:56.813 Z    WALMART  60842f207ac8b7729e472020   \n",
       "41475  2024-06-19 11:03:37.468 Z  FOOD LION  63fcd7cea4f8442c3386b589   \n",
       "43233  2024-07-05 15:56:43.549 Z   RANDALLS  6193231ae9b3d75037b0f928   \n",
       "40388  2024-06-24 19:44:54.247 Z    WALMART  5dcc6c510040a012b8e76924   \n",
       "47862  2024-07-06 19:27:48.586 Z    WALMART  5f850bc9cf9431165f3ac175   \n",
       "36036  2024-08-21 17:35:21.902 Z     TARGET  6144f4f1f3ef696919f54b5c   \n",
       "41970  2024-08-13 18:21:07.931 Z    WALMART  61a6d926f998e47aad33db66   \n",
       "40976  2024-08-04 18:01:47.787 Z       ALDI  66686fc2e04f743a096ea808   \n",
       "\n",
       "            BARCODE  FINAL_QUANTITY  FINAL_SALE  \n",
       "41567  1.530001e+10             1.0        1.54  \n",
       "39291           NaN             1.0        1.49  \n",
       "25928  7.874223e+10             1.0        2.54  \n",
       "41475  7.833997e+11             1.0        3.49  \n",
       "43233  4.790050e+10             1.0        5.29  \n",
       "40388  6.811314e+11             1.0        1.46  \n",
       "47862  4.920091e+10             1.0        3.12  \n",
       "36036  7.830007e+10             1.0        3.59  \n",
       "41970  5.200001e+10             1.0        0.98  \n",
       "40976           NaN             1.0        2.29  "
      ]
     },
     "execution_count": 25,
     "metadata": {},
     "output_type": "execute_result"
    }
   ],
   "source": [
    "new_transactions.sort_values(by=[\"RECEIPT_ID\", \"USER_ID\", \"BARCODE\"]).head(10)"
   ]
  },
  {
   "cell_type": "code",
   "execution_count": 74,
   "metadata": {},
   "outputs": [],
   "source": [
    "# Drop exact duplicate rows\n",
    "new_products = products.drop_duplicates()\n",
    "\n",
    "new_products = new_products.dropna(subset=[\"BARCODE\"])\n",
    "\n",
    "# Drop duplicates based on \"BARCODE\", keeping the first occurrence\n",
    "new_products = new_products.drop_duplicates(subset=[\"BARCODE\"], keep=\"last\")"
   ]
  },
  {
   "cell_type": "code",
   "execution_count": 75,
   "metadata": {},
   "outputs": [
    {
     "name": "stdout",
     "output_type": "stream",
     "text": [
      "Number of duplicate rows: 0\n",
      "Number of duplicate IDs: 0\n"
     ]
    }
   ],
   "source": [
    "# Check for duplicate rows in product data\n",
    "new_product_duplicate_rows = new_products.duplicated().sum()\n",
    "print(f\"Number of duplicate rows: {new_product_duplicate_rows}\")\n",
    "\n",
    "# Check for duplicate BARCODE in product data\n",
    "new_product_duplicate_bars = new_products.duplicated(subset=['BARCODE']).sum()\n",
    "print(f\"Number of duplicate IDs: {new_product_duplicate_bars}\")"
   ]
  },
  {
   "cell_type": "code",
   "execution_count": 76,
   "metadata": {},
   "outputs": [
    {
     "name": "stdout",
     "output_type": "stream",
     "text": [
      "Number of Transactions: 24795\n",
      "Transactions with missing users: 24665\n",
      "Transactions with missing products: 12440\n"
     ]
    }
   ],
   "source": [
    "missing_users = new_transactions[~new_transactions[\"USER_ID\"].isin(users[\"ID\"])]\n",
    "missing_products = new_transactions[~new_transactions[\"BARCODE\"].isin(new_products[\"BARCODE\"])]\n",
    "\n",
    "print(f\"Number of Transactions: {len(new_transactions)}\")\n",
    "print(f\"Transactions with missing users: {len(missing_users)}\")\n",
    "print(f\"Transactions with missing products: {len(missing_products)}\")"
   ]
  },
  {
   "cell_type": "code",
   "execution_count": 77,
   "metadata": {},
   "outputs": [
    {
     "name": "stdout",
     "output_type": "stream",
     "text": [
      "Number of Rows: 24795\n"
     ]
    }
   ],
   "source": [
    "# Merge transactions with users on user_id\n",
    "transactions_users = new_transactions.merge(users, left_on=\"USER_ID\", right_on=\"ID\", how=\"left\")\n",
    "\n",
    "# Merge transactions with products on barcode\n",
    "full_data = transactions_users.merge(new_products, on=\"BARCODE\", how=\"left\")\n",
    "\n",
    "print(f\"Number of Rows: {len(full_data)}\")"
   ]
  },
  {
   "cell_type": "code",
   "execution_count": 78,
   "metadata": {},
   "outputs": [
    {
     "name": "stdout",
     "output_type": "stream",
     "text": [
      "BARCODE         11.357128\n",
      "CATEGORY_1      51.599113\n",
      "CATEGORY_2      51.647510\n",
      "BRAND           51.647510\n",
      "MANUFACTURER    51.647510\n",
      "CATEGORY_3      55.486993\n",
      "CATEGORY_4      93.942327\n",
      "STATE           99.475701\n",
      "LANGUAGE        99.475701\n",
      "ID              99.475701\n",
      "CREATED_DATE    99.475701\n",
      "GENDER          99.479734\n",
      "BIRTH_DATE      99.479734\n",
      "dtype: float64\n"
     ]
    },
    {
     "data": {
      "image/png": "[encoded data removed]",
      "text/plain": [
       "<Figure size 800x400 with 1 Axes>"
      ]
     },
     "metadata": {},
     "output_type": "display_data"
    }
   ],
   "source": [
    "# Calculate the percentage of missing values for each column\n",
    "missing_values = (full_data.isnull().sum() / len(full_data)) * 100\n",
    "\n",
    "# Sort values for better visualization\n",
    "missing_values = missing_values.sort_values()\n",
    "missing_values = missing_values[missing_values > 0]\n",
    "print(missing_values)\n",
    "\n",
    "# Plot using Seaborn\n",
    "plt.figure(figsize=(8, 4))\n",
    "sns.barplot(y=missing_values.index, x=missing_values.values)\n",
    "\n",
    "# Formatting\n",
    "plt.xlabel(\"Percentage of Missing Values\")\n",
    "plt.ylabel(\"Columns\")\n",
    "plt.title(\"Missing Data by Column\")\n",
    "# plt.xticks(rotation=45)\n",
    "\n",
    "plt.show()"
   ]
  },
  {
   "cell_type": "code",
   "execution_count": 94,
   "metadata": {},
   "outputs": [
    {
     "data": {
      "text/html": [
       "<div>\n",
       "<style scoped>\n",
       "    .dataframe tbody tr th:only-of-type {\n",
       "        vertical-align: middle;\n",
       "    }\n",
       "\n",
       "    .dataframe tbody tr th {\n",
       "        vertical-align: top;\n",
       "    }\n",
       "\n",
       "    .dataframe thead th {\n",
       "        text-align: right;\n",
       "    }\n",
       "</style>\n",
       "<table border=\"1\" class=\"dataframe\">\n",
       "  <thead>\n",
       "    <tr style=\"text-align: right;\">\n",
       "      <th></th>\n",
       "      <th>RECEIPT_ID</th>\n",
       "      <th>PURCHASE_DATE</th>\n",
       "      <th>SCAN_DATE</th>\n",
       "      <th>STORE_NAME</th>\n",
       "      <th>USER_ID</th>\n",
       "      <th>BARCODE</th>\n",
       "      <th>FINAL_QUANTITY</th>\n",
       "      <th>FINAL_SALE</th>\n",
       "      <th>ID</th>\n",
       "      <th>CREATED_DATE</th>\n",
       "      <th>BIRTH_DATE</th>\n",
       "      <th>STATE</th>\n",
       "      <th>LANGUAGE</th>\n",
       "      <th>GENDER</th>\n",
       "      <th>CATEGORY_1</th>\n",
       "      <th>CATEGORY_2</th>\n",
       "      <th>CATEGORY_3</th>\n",
       "      <th>CATEGORY_4</th>\n",
       "      <th>MANUFACTURER</th>\n",
       "      <th>BRAND</th>\n",
       "    </tr>\n",
       "  </thead>\n",
       "  <tbody>\n",
       "    <tr>\n",
       "      <th>7308</th>\n",
       "      <td>be5a3916-5dee-45dc-b488-843a1245cfc9</td>\n",
       "      <td>2024-08-17</td>\n",
       "      <td>2024-08-17 16:02:06.547 Z</td>\n",
       "      <td>WALMART</td>\n",
       "      <td>5c6c2998b06c0045a4fddc74</td>\n",
       "      <td>7.874213e+10</td>\n",
       "      <td>1.0</td>\n",
       "      <td>2.78</td>\n",
       "      <td>5c6c2998b06c0045a4fddc74</td>\n",
       "      <td>2019-02-19 16:06:48.000 Z</td>\n",
       "      <td>1943-09-03 05:00:00.000 Z</td>\n",
       "      <td>OK</td>\n",
       "      <td>en</td>\n",
       "      <td>female</td>\n",
       "      <td>Snacks</td>\n",
       "      <td>Cookies</td>\n",
       "      <td>NaN</td>\n",
       "      <td>NaN</td>\n",
       "      <td>WALMART INC.</td>\n",
       "      <td>GREAT VALUE</td>\n",
       "    </tr>\n",
       "    <tr>\n",
       "      <th>17301</th>\n",
       "      <td>1545b6f9-813e-4c47-a673-fad21a219c00</td>\n",
       "      <td>2024-06-17</td>\n",
       "      <td>2024-06-17 22:07:41.785 Z</td>\n",
       "      <td>WALMART</td>\n",
       "      <td>5c6c2998b06c0045a4fddc74</td>\n",
       "      <td>2.430004e+10</td>\n",
       "      <td>1.0</td>\n",
       "      <td>2.68</td>\n",
       "      <td>5c6c2998b06c0045a4fddc74</td>\n",
       "      <td>2019-02-19 16:06:48.000 Z</td>\n",
       "      <td>1943-09-03 05:00:00.000 Z</td>\n",
       "      <td>OK</td>\n",
       "      <td>en</td>\n",
       "      <td>female</td>\n",
       "      <td>Snacks</td>\n",
       "      <td>Snack Cakes</td>\n",
       "      <td>Donut Snack Cakes</td>\n",
       "      <td>NaN</td>\n",
       "      <td>MCKEE FOODS</td>\n",
       "      <td>LITTLE DEBBIE</td>\n",
       "    </tr>\n",
       "    <tr>\n",
       "      <th>17125</th>\n",
       "      <td>6c757ce3-bcf4-47e2-9be9-295518246833</td>\n",
       "      <td>2024-07-11</td>\n",
       "      <td>2024-07-12 10:42:17.105 Z</td>\n",
       "      <td>DOLLAR TREE STORES INC</td>\n",
       "      <td>62c627d9b79924d29cc06f5a</td>\n",
       "      <td>9.990072e+10</td>\n",
       "      <td>1.0</td>\n",
       "      <td>1.25</td>\n",
       "      <td>62c627d9b79924d29cc06f5a</td>\n",
       "      <td>2022-07-07 00:24:57.000 Z</td>\n",
       "      <td>1944-07-20 05:00:00.000 Z</td>\n",
       "      <td>IN</td>\n",
       "      <td>en</td>\n",
       "      <td>female</td>\n",
       "      <td>Snacks</td>\n",
       "      <td>Candy</td>\n",
       "      <td>Chocolate Candy</td>\n",
       "      <td>NaN</td>\n",
       "      <td>FERRERO GROUP</td>\n",
       "      <td>BABY RUTH</td>\n",
       "    </tr>\n",
       "    <tr>\n",
       "      <th>22661</th>\n",
       "      <td>646ff0f9-2828-4483-ab38-fc952c3d4379</td>\n",
       "      <td>2024-08-14</td>\n",
       "      <td>2024-08-14 09:42:22.953 Z</td>\n",
       "      <td>WALMART</td>\n",
       "      <td>5f64fff6dc25c93de0383513</td>\n",
       "      <td>7.874213e+10</td>\n",
       "      <td>1.0</td>\n",
       "      <td>2.98</td>\n",
       "      <td>5f64fff6dc25c93de0383513</td>\n",
       "      <td>2020-09-18 18:44:07.000 Z</td>\n",
       "      <td>1948-09-02 04:00:00.000 Z</td>\n",
       "      <td>GA</td>\n",
       "      <td>en</td>\n",
       "      <td>male</td>\n",
       "      <td>NaN</td>\n",
       "      <td>NaN</td>\n",
       "      <td>NaN</td>\n",
       "      <td>NaN</td>\n",
       "      <td>NaN</td>\n",
       "      <td>NaN</td>\n",
       "    </tr>\n",
       "    <tr>\n",
       "      <th>14755</th>\n",
       "      <td>646ff0f9-2828-4483-ab38-fc952c3d4379</td>\n",
       "      <td>2024-08-14</td>\n",
       "      <td>2024-08-14 09:42:22.953 Z</td>\n",
       "      <td>WALMART</td>\n",
       "      <td>5f64fff6dc25c93de0383513</td>\n",
       "      <td>7.874201e+10</td>\n",
       "      <td>1.0</td>\n",
       "      <td>1.42</td>\n",
       "      <td>5f64fff6dc25c93de0383513</td>\n",
       "      <td>2020-09-18 18:44:07.000 Z</td>\n",
       "      <td>1948-09-02 04:00:00.000 Z</td>\n",
       "      <td>GA</td>\n",
       "      <td>en</td>\n",
       "      <td>male</td>\n",
       "      <td>NaN</td>\n",
       "      <td>NaN</td>\n",
       "      <td>NaN</td>\n",
       "      <td>NaN</td>\n",
       "      <td>NaN</td>\n",
       "      <td>NaN</td>\n",
       "    </tr>\n",
       "    <tr>\n",
       "      <th>1245</th>\n",
       "      <td>417a98f9-c71b-468c-b795-74c5576c0100</td>\n",
       "      <td>2024-08-14</td>\n",
       "      <td>2024-08-14 09:42:01.787 Z</td>\n",
       "      <td>WALMART</td>\n",
       "      <td>5f64fff6dc25c93de0383513</td>\n",
       "      <td>6.414405e+10</td>\n",
       "      <td>1.0</td>\n",
       "      <td>1.00</td>\n",
       "      <td>5f64fff6dc25c93de0383513</td>\n",
       "      <td>2020-09-18 18:44:07.000 Z</td>\n",
       "      <td>1948-09-02 04:00:00.000 Z</td>\n",
       "      <td>GA</td>\n",
       "      <td>en</td>\n",
       "      <td>male</td>\n",
       "      <td>NaN</td>\n",
       "      <td>NaN</td>\n",
       "      <td>NaN</td>\n",
       "      <td>NaN</td>\n",
       "      <td>NaN</td>\n",
       "      <td>NaN</td>\n",
       "    </tr>\n",
       "    <tr>\n",
       "      <th>489</th>\n",
       "      <td>9a6e4c08-b07b-4bad-ad44-330d2da1b67d</td>\n",
       "      <td>2024-06-17</td>\n",
       "      <td>2024-06-17 11:20:43.843 Z</td>\n",
       "      <td>WALMART</td>\n",
       "      <td>62815e99c907cf3f47d8ee35</td>\n",
       "      <td>8.100212e+11</td>\n",
       "      <td>1.0</td>\n",
       "      <td>1.97</td>\n",
       "      <td>62815e99c907cf3f47d8ee35</td>\n",
       "      <td>2022-05-15 20:12:09.000 Z</td>\n",
       "      <td>1948-10-26 05:00:00.000 Z</td>\n",
       "      <td>FL</td>\n",
       "      <td>en</td>\n",
       "      <td>female</td>\n",
       "      <td>Health &amp; Wellness</td>\n",
       "      <td>Skin Care</td>\n",
       "      <td>Body Oil</td>\n",
       "      <td>NaN</td>\n",
       "      <td>PDC BRANDS</td>\n",
       "      <td>DR TEAL'S</td>\n",
       "    </tr>\n",
       "    <tr>\n",
       "      <th>10451</th>\n",
       "      <td>59df1c4c-ade1-4a77-97eb-e731bec19fed</td>\n",
       "      <td>2024-07-25</td>\n",
       "      <td>2024-07-26 19:50:38.133 Z</td>\n",
       "      <td>WALMART</td>\n",
       "      <td>664794617c0469953bf8932c</td>\n",
       "      <td>4.144900e+10</td>\n",
       "      <td>1.0</td>\n",
       "      <td>1.86</td>\n",
       "      <td>664794617c0469953bf8932c</td>\n",
       "      <td>2024-05-17 17:31:13.000 Z</td>\n",
       "      <td>1949-06-09 00:00:00.000 Z</td>\n",
       "      <td>OR</td>\n",
       "      <td>es-419</td>\n",
       "      <td>female</td>\n",
       "      <td>NaN</td>\n",
       "      <td>NaN</td>\n",
       "      <td>NaN</td>\n",
       "      <td>NaN</td>\n",
       "      <td>NaN</td>\n",
       "      <td>NaN</td>\n",
       "    </tr>\n",
       "    <tr>\n",
       "      <th>1161</th>\n",
       "      <td>59df1c4c-ade1-4a77-97eb-e731bec19fed</td>\n",
       "      <td>2024-07-25</td>\n",
       "      <td>2024-07-26 19:50:38.133 Z</td>\n",
       "      <td>WALMART</td>\n",
       "      <td>664794617c0469953bf8932c</td>\n",
       "      <td>3.338366e+10</td>\n",
       "      <td>1.0</td>\n",
       "      <td>1.22</td>\n",
       "      <td>664794617c0469953bf8932c</td>\n",
       "      <td>2024-05-17 17:31:13.000 Z</td>\n",
       "      <td>1949-06-09 00:00:00.000 Z</td>\n",
       "      <td>OR</td>\n",
       "      <td>es-419</td>\n",
       "      <td>female</td>\n",
       "      <td>NaN</td>\n",
       "      <td>NaN</td>\n",
       "      <td>NaN</td>\n",
       "      <td>NaN</td>\n",
       "      <td>NaN</td>\n",
       "      <td>NaN</td>\n",
       "    </tr>\n",
       "    <tr>\n",
       "      <th>12242</th>\n",
       "      <td>dd59569d-8e51-4f92-8b81-ed7fd0e1a411</td>\n",
       "      <td>2024-08-07</td>\n",
       "      <td>2024-08-07 17:02:08.904 Z</td>\n",
       "      <td>BJ'S WHOLESALE CLUB</td>\n",
       "      <td>62b67b8e37e6e08b0774f2c4</td>\n",
       "      <td>7.411795e+10</td>\n",
       "      <td>1.0</td>\n",
       "      <td>6.49</td>\n",
       "      <td>62b67b8e37e6e08b0774f2c4</td>\n",
       "      <td>2022-06-25 03:05:50.000 Z</td>\n",
       "      <td>1951-04-01 00:00:00.000 Z</td>\n",
       "      <td>NY</td>\n",
       "      <td>en</td>\n",
       "      <td>female</td>\n",
       "      <td>NaN</td>\n",
       "      <td>NaN</td>\n",
       "      <td>NaN</td>\n",
       "      <td>NaN</td>\n",
       "      <td>NaN</td>\n",
       "      <td>NaN</td>\n",
       "    </tr>\n",
       "  </tbody>\n",
       "</table>\n",
       "</div>"
      ],
      "text/plain": [
       "                                 RECEIPT_ID PURCHASE_DATE  \\\n",
       "7308   be5a3916-5dee-45dc-b488-843a1245cfc9    2024-08-17   \n",
       "17301  1545b6f9-813e-4c47-a673-fad21a219c00    2024-06-17   \n",
       "17125  6c757ce3-bcf4-47e2-9be9-295518246833    2024-07-11   \n",
       "22661  646ff0f9-2828-4483-ab38-fc952c3d4379    2024-08-14   \n",
       "14755  646ff0f9-2828-4483-ab38-fc952c3d4379    2024-08-14   \n",
       "1245   417a98f9-c71b-468c-b795-74c5576c0100    2024-08-14   \n",
       "489    9a6e4c08-b07b-4bad-ad44-330d2da1b67d    2024-06-17   \n",
       "10451  59df1c4c-ade1-4a77-97eb-e731bec19fed    2024-07-25   \n",
       "1161   59df1c4c-ade1-4a77-97eb-e731bec19fed    2024-07-25   \n",
       "12242  dd59569d-8e51-4f92-8b81-ed7fd0e1a411    2024-08-07   \n",
       "\n",
       "                       SCAN_DATE              STORE_NAME  \\\n",
       "7308   2024-08-17 16:02:06.547 Z                 WALMART   \n",
       "17301  2024-06-17 22:07:41.785 Z                 WALMART   \n",
       "17125  2024-07-12 10:42:17.105 Z  DOLLAR TREE STORES INC   \n",
       "22661  2024-08-14 09:42:22.953 Z                 WALMART   \n",
       "14755  2024-08-14 09:42:22.953 Z                 WALMART   \n",
       "1245   2024-08-14 09:42:01.787 Z                 WALMART   \n",
       "489    2024-06-17 11:20:43.843 Z                 WALMART   \n",
       "10451  2024-07-26 19:50:38.133 Z                 WALMART   \n",
       "1161   2024-07-26 19:50:38.133 Z                 WALMART   \n",
       "12242  2024-08-07 17:02:08.904 Z     BJ'S WHOLESALE CLUB   \n",
       "\n",
       "                        USER_ID       BARCODE  FINAL_QUANTITY  FINAL_SALE  \\\n",
       "7308   5c6c2998b06c0045a4fddc74  7.874213e+10             1.0        2.78   \n",
       "17301  5c6c2998b06c0045a4fddc74  2.430004e+10             1.0        2.68   \n",
       "17125  62c627d9b79924d29cc06f5a  9.990072e+10             1.0        1.25   \n",
       "22661  5f64fff6dc25c93de0383513  7.874213e+10             1.0        2.98   \n",
       "14755  5f64fff6dc25c93de0383513  7.874201e+10             1.0        1.42   \n",
       "1245   5f64fff6dc25c93de0383513  6.414405e+10             1.0        1.00   \n",
       "489    62815e99c907cf3f47d8ee35  8.100212e+11             1.0        1.97   \n",
       "10451  664794617c0469953bf8932c  4.144900e+10             1.0        1.86   \n",
       "1161   664794617c0469953bf8932c  3.338366e+10             1.0        1.22   \n",
       "12242  62b67b8e37e6e08b0774f2c4  7.411795e+10             1.0        6.49   \n",
       "\n",
       "                             ID               CREATED_DATE  \\\n",
       "7308   5c6c2998b06c0045a4fddc74  2019-02-19 16:06:48.000 Z   \n",
       "17301  5c6c2998b06c0045a4fddc74  2019-02-19 16:06:48.000 Z   \n",
       "17125  62c627d9b79924d29cc06f5a  2022-07-07 00:24:57.000 Z   \n",
       "22661  5f64fff6dc25c93de0383513  2020-09-18 18:44:07.000 Z   \n",
       "14755  5f64fff6dc25c93de0383513  2020-09-18 18:44:07.000 Z   \n",
       "1245   5f64fff6dc25c93de0383513  2020-09-18 18:44:07.000 Z   \n",
       "489    62815e99c907cf3f47d8ee35  2022-05-15 20:12:09.000 Z   \n",
       "10451  664794617c0469953bf8932c  2024-05-17 17:31:13.000 Z   \n",
       "1161   664794617c0469953bf8932c  2024-05-17 17:31:13.000 Z   \n",
       "12242  62b67b8e37e6e08b0774f2c4  2022-06-25 03:05:50.000 Z   \n",
       "\n",
       "                      BIRTH_DATE STATE LANGUAGE  GENDER         CATEGORY_1  \\\n",
       "7308   1943-09-03 05:00:00.000 Z    OK       en  female             Snacks   \n",
       "17301  1943-09-03 05:00:00.000 Z    OK       en  female             Snacks   \n",
       "17125  1944-07-20 05:00:00.000 Z    IN       en  female             Snacks   \n",
       "22661  1948-09-02 04:00:00.000 Z    GA       en    male                NaN   \n",
       "14755  1948-09-02 04:00:00.000 Z    GA       en    male                NaN   \n",
       "1245   1948-09-02 04:00:00.000 Z    GA       en    male                NaN   \n",
       "489    1948-10-26 05:00:00.000 Z    FL       en  female  Health & Wellness   \n",
       "10451  1949-06-09 00:00:00.000 Z    OR   es-419  female                NaN   \n",
       "1161   1949-06-09 00:00:00.000 Z    OR   es-419  female                NaN   \n",
       "12242  1951-04-01 00:00:00.000 Z    NY       en  female                NaN   \n",
       "\n",
       "        CATEGORY_2         CATEGORY_3 CATEGORY_4   MANUFACTURER          BRAND  \n",
       "7308       Cookies                NaN        NaN   WALMART INC.    GREAT VALUE  \n",
       "17301  Snack Cakes  Donut Snack Cakes        NaN    MCKEE FOODS  LITTLE DEBBIE  \n",
       "17125        Candy    Chocolate Candy        NaN  FERRERO GROUP      BABY RUTH  \n",
       "22661          NaN                NaN        NaN            NaN            NaN  \n",
       "14755          NaN                NaN        NaN            NaN            NaN  \n",
       "1245           NaN                NaN        NaN            NaN            NaN  \n",
       "489      Skin Care           Body Oil        NaN     PDC BRANDS      DR TEAL'S  \n",
       "10451          NaN                NaN        NaN            NaN            NaN  \n",
       "1161           NaN                NaN        NaN            NaN            NaN  \n",
       "12242          NaN                NaN        NaN            NaN            NaN  "
      ]
     },
     "execution_count": 94,
     "metadata": {},
     "output_type": "execute_result"
    }
   ],
   "source": [
    "full_data.sort_values(by=[\"BIRTH_DATE\"]).head(10)"
   ]
  },
  {
   "cell_type": "code",
   "execution_count": 80,
   "metadata": {},
   "outputs": [
    {
     "name": "stdout",
     "output_type": "stream",
     "text": [
      "         BRAND  receipt_count\n",
      "0         DOVE              3\n",
      "1  NERDS CANDY              3\n",
      "2    COCA-COLA              2\n",
      "3  GREAT VALUE              2\n",
      "4    HERSHEY'S              2\n"
     ]
    }
   ],
   "source": [
    "# Create an in-memory SQLite database\n",
    "conn = sqlite3.connect(\":memory:\")\n",
    "\n",
    "# full_data[\"BIRTH_DATE\"] = pd.to_datetime(full_data[\"BIRTH_DATE\"], errors=\"coerce\").dt.strftime(\"%Y-%m-%d\")\n",
    "\n",
    "# Store DataFrames as SQL tables\n",
    "new_transactions.to_sql(\"new_transactions\", conn, index=False, if_exists=\"replace\")\n",
    "new_products.to_sql(\"new_products\", conn, index=False, if_exists=\"replace\")\n",
    "users.to_sql(\"users\", conn, index=False, if_exists=\"replace\")\n",
    "\n",
    "# Run the SQL query\n",
    "query = \"\"\"\n",
    "    SELECT p.brand, COUNT(DISTINCT t.receipt_id) AS receipt_count\n",
    "    FROM new_transactions t\n",
    "    LEFT JOIN new_products p ON t.BARCODE = p.BARCODE\n",
    "    LEFT JOIN users u ON t.USER_ID = u.ID\n",
    "    WHERE (julianday('now') - julianday(u.birth_date)) >= (21 * 365) AND p.brand IS NOT NULL \n",
    "    GROUP BY p.brand\n",
    "    ORDER BY receipt_count DESC\n",
    "    LIMIT 5;\n",
    "\"\"\"\n",
    "\n",
    "# Execute the query and load results into a DataFrame\n",
    "top_brands = pd.read_sql(query, conn)\n",
    "\n",
    "# Close the connection\n",
    "conn.close()\n",
    "\n",
    "# Display results\n",
    "print(top_brands)"
   ]
  },
  {
   "cell_type": "code",
   "execution_count": 81,
   "metadata": {},
   "outputs": [
    {
     "name": "stdout",
     "output_type": "stream",
     "text": [
      "          BRAND  receipt_count\n",
      "13         DOVE              3\n",
      "35  NERDS CANDY              3\n",
      "6     COCA-COLA              2\n",
      "21  GREAT VALUE              2\n",
      "22    HERSHEY'S              2\n"
     ]
    }
   ],
   "source": [
    "new_full_data = full_data.copy()\n",
    "# Convert birth_date to datetime\n",
    "new_full_data[\"BIRTH_DATE\"] = pd.to_datetime(new_full_data[\"BIRTH_DATE\"]).dt.tz_localize(None)\n",
    "\n",
    "# Compute age in days and filter users 21+ years old\n",
    "age_threshold = 21 * 365\n",
    "full_data_filtered = new_full_data[\n",
    "    (datetime.today() - new_full_data[\"BIRTH_DATE\"]).dt.days >= age_threshold\n",
    "]\n",
    "\n",
    "# Exclude NULL and empty brands\n",
    "full_data_filtered = full_data_filtered[full_data_filtered[\"BRAND\"].notna() & (full_data_filtered[\"BRAND\"] != \"\")]\n",
    "\n",
    "# Count distinct receipts per brand\n",
    "top_brands = (\n",
    "    full_data_filtered.groupby(\"BRAND\")[\"RECEIPT_ID\"]\n",
    "    .nunique()\n",
    "    .reset_index()\n",
    "    .rename(columns={\"RECEIPT_ID\": \"receipt_count\"})\n",
    "    .sort_values([\"receipt_count\", \"BRAND\"], ascending=[False, True])\n",
    "    .head(5)\n",
    ")\n",
    "\n",
    "print(top_brands)"
   ]
  },
  {
   "cell_type": "code",
   "execution_count": 82,
   "metadata": {},
   "outputs": [
    {
     "name": "stdout",
     "output_type": "stream",
     "text": [
      "         BRAND  total_sales\n",
      "0          CVS        72.00\n",
      "1         DOVE        30.91\n",
      "2      TRIDENT        23.36\n",
      "3  COORS LIGHT        17.48\n",
      "4     TRESEMMÉ        14.58\n"
     ]
    }
   ],
   "source": [
    "# Create an in-memory SQLite database\n",
    "conn = sqlite3.connect(\":memory:\")\n",
    "\n",
    "# full_data[\"BIRTH_DATE\"] = pd.to_datetime(full_data[\"BIRTH_DATE\"], errors=\"coerce\").dt.strftime(\"%Y-%m-%d\")\n",
    "\n",
    "# Store DataFrames as SQL tables\n",
    "new_transactions.to_sql(\"new_transactions\", conn, index=False, if_exists=\"replace\")\n",
    "new_products.to_sql(\"new_products\", conn, index=False, if_exists=\"replace\")\n",
    "users.to_sql(\"users\", conn, index=False, if_exists=\"replace\")\n",
    "\n",
    "# Run the SQL query\n",
    "query = \"\"\"\n",
    "      SELECT p.brand, SUM(t.final_sale) AS total_sales\n",
    "      FROM new_transactions t\n",
    "      LEFT JOIN new_products p ON t.BARCODE = p.BARCODE\n",
    "      LEFT JOIN users u ON t.USER_ID = u.ID\n",
    "      WHERE (julianday('now') - julianday(u.created_date)) >= 182 AND p.brand IS NOT NULL \n",
    "      GROUP BY p.brand\n",
    "      ORDER BY total_sales DESC\n",
    "      LIMIT 5;\n",
    "\"\"\"\n",
    "\n",
    "# Execute the query and load results into a DataFrame\n",
    "top_brands = pd.read_sql(query, conn)\n",
    "\n",
    "# Close the connection\n",
    "conn.close()\n",
    "\n",
    "# Display results\n",
    "print(top_brands)"
   ]
  },
  {
   "cell_type": "code",
   "execution_count": 83,
   "metadata": {},
   "outputs": [
    {
     "name": "stdout",
     "output_type": "stream",
     "text": [
      "          BRAND  total_sales\n",
      "9           CVS        72.00\n",
      "13         DOVE        30.91\n",
      "56      TRIDENT        23.36\n",
      "7   COORS LIGHT        17.48\n",
      "55     TRESEMMÉ        14.58\n"
     ]
    }
   ],
   "source": [
    "# Convert birth_date to datetime\n",
    "new_full_data[\"CREATED_DATE\"] = pd.to_datetime(new_full_data[\"CREATED_DATE\"]).dt.tz_localize(None)\n",
    "\n",
    "# Compute account age in days and filter users with accounts 6+ months old\n",
    "account_age_threshold = 182  # 6 months in days\n",
    "full_data_filtered = new_full_data[\n",
    "    (datetime.today() - new_full_data[\"CREATED_DATE\"]).dt.days >= account_age_threshold\n",
    "]\n",
    "\n",
    "# Exclude NULL and empty brands\n",
    "full_data_filtered = full_data_filtered[full_data_filtered[\"BRAND\"].notna() & (full_data_filtered[\"BRAND\"] != \"\")]\n",
    "\n",
    "# Sum sales per brand\n",
    "top_sales_brands = (\n",
    "    full_data_filtered.groupby(\"BRAND\")[\"FINAL_SALE\"]\n",
    "    .sum()\n",
    "    .reset_index()\n",
    "    .rename(columns={\"FINAL_SALE\": \"total_sales\"})\n",
    "    .sort_values(\"total_sales\", ascending=False)\n",
    "    .head(5)\n",
    ")\n",
    "\n",
    "print(top_sales_brands)\n"
   ]
  },
  {
   "cell_type": "code",
   "execution_count": 84,
   "metadata": {},
   "outputs": [
    {
     "name": "stdout",
     "output_type": "stream",
     "text": [
      "                    USER_ID  total_sales\n",
      "0  630789e1101ae272a4852287       462.82\n",
      "1  650874eafe41d365c2ee11d2       267.29\n",
      "2  63af23db9f3fc9c7546fdbec       238.17\n",
      "3  645add3bffe0d7e043ef1b63       227.93\n",
      "4  6535138fdda97e6b1342ea7f       146.65\n"
     ]
    }
   ],
   "source": [
    "# Create an in-memory SQLite database\n",
    "conn = sqlite3.connect(\":memory:\")\n",
    "\n",
    "# full_data[\"BIRTH_DATE\"] = pd.to_datetime(full_data[\"BIRTH_DATE\"], errors=\"coerce\").dt.strftime(\"%Y-%m-%d\")\n",
    "\n",
    "# Store DataFrames as SQL tables\n",
    "new_transactions.to_sql(\"new_transactions\", conn, index=False, if_exists=\"replace\")\n",
    "# new_products.to_sql(\"new_products\", conn, index=False, if_exists=\"replace\")\n",
    "# users.to_sql(\"users\", conn, index=False, if_exists=\"replace\")\n",
    "\n",
    "# Run the SQL query\n",
    "query = \"\"\"\n",
    "    SELECT t.USER_ID, SUM(t.FINAL_SALE) AS total_sales\n",
    "    FROM new_transactions t\n",
    "    GROUP BY t.USER_ID\n",
    "    ORDER BY total_sales DESC\n",
    "    LIMIT 5;\n",
    "\"\"\"\n",
    "\n",
    "# Execute the query and load results into a DataFrame\n",
    "top_users = pd.read_sql(query, conn)\n",
    "\n",
    "# Close the connection\n",
    "conn.close()\n",
    "\n",
    "# Display results\n",
    "print(top_users)"
   ]
  },
  {
   "cell_type": "code",
   "execution_count": 85,
   "metadata": {},
   "outputs": [
    {
     "name": "stdout",
     "output_type": "stream",
     "text": [
      "                        USER_ID  total_sales\n",
      "10392  630789e1101ae272a4852287       462.82\n",
      "14830  650874eafe41d365c2ee11d2       267.29\n",
      "12195  63af23db9f3fc9c7546fdbec       238.17\n",
      "13636  645add3bffe0d7e043ef1b63       227.93\n",
      "15101  6535138fdda97e6b1342ea7f       146.65\n"
     ]
    }
   ],
   "source": [
    "# Compute total sales per user and sort in descending order\n",
    "top_users_by_sales = (\n",
    "    full_data.groupby(\"USER_ID\")[\"FINAL_SALE\"]\n",
    "    .sum()\n",
    "    .reset_index()\n",
    "    .rename(columns={\"FINAL_SALE\": \"total_sales\"})\n",
    "    .sort_values(\"total_sales\", ascending=False)\n",
    "    .head(5)  # Adjust the number to get top N users\n",
    ")\n",
    "\n",
    "print(top_users_by_sales)"
   ]
  },
  {
   "cell_type": "code",
   "execution_count": 86,
   "metadata": {},
   "outputs": [
    {
     "name": "stdout",
     "output_type": "stream",
     "text": [
      "      BRAND  total_sales\n",
      "0  TOSTITOS        181.3\n"
     ]
    }
   ],
   "source": [
    "# Create an in-memory SQLite database\n",
    "conn = sqlite3.connect(\":memory:\")\n",
    "\n",
    "# full_data[\"BIRTH_DATE\"] = pd.to_datetime(full_data[\"BIRTH_DATE\"], errors=\"coerce\").dt.strftime(\"%Y-%m-%d\")\n",
    "\n",
    "# Store DataFrames as SQL tables\n",
    "new_transactions.to_sql(\"new_transactions\", conn, index=False, if_exists=\"replace\")\n",
    "new_products.to_sql(\"new_products\", conn, index=False, if_exists=\"replace\")\n",
    "# users.to_sql(\"users\", conn, index=False, if_exists=\"replace\")\n",
    "\n",
    "# Run the SQL query\n",
    "query = \"\"\"\n",
    "    SELECT p.BRAND, SUM(t.FINAL_SALE) AS total_sales\n",
    "    FROM new_transactions t\n",
    "    LEFT JOIN new_products p ON t.BARCODE = p.BARCODE\n",
    "    WHERE p.category_2 = 'Dips & Salsa'\n",
    "    GROUP BY p.BRAND\n",
    "    ORDER BY total_sales DESC\n",
    "    LIMIT 1;\n",
    "\"\"\"\n",
    "\n",
    "# Execute the query and load results into a DataFrame\n",
    "top_brand = pd.read_sql(query, conn)\n",
    "\n",
    "# Close the connection\n",
    "conn.close()\n",
    "\n",
    "# Display results\n",
    "print(top_brand)"
   ]
  },
  {
   "cell_type": "code",
   "execution_count": 87,
   "metadata": {},
   "outputs": [
    {
     "name": "stdout",
     "output_type": "stream",
     "text": [
      "       BRAND  total_sales\n",
      "53  TOSTITOS        181.3\n"
     ]
    }
   ],
   "source": [
    "# Filter data for 'Dips & Salsa' category\n",
    "dips_salsa_data = full_data[full_data[\"CATEGORY_2\"] == \"Dips & Salsa\"]\n",
    "\n",
    "# Group by BRAND and sum FINAL_SALE\n",
    "top_brand = (\n",
    "    dips_salsa_data.groupby(\"BRAND\")[\"FINAL_SALE\"]\n",
    "    .sum()\n",
    "    .reset_index()\n",
    "    .rename(columns={\"FINAL_SALE\": \"total_sales\"})\n",
    "    .sort_values(\"total_sales\", ascending=False)\n",
    "    .head(1)\n",
    ")\n",
    "\n",
    "print(top_brand)"
   ]
  }
 ],
 "metadata": {
  "kernelspec": {
   "display_name": "Python 3",
   "language": "python",
   "name": "python3"
  },
  "language_info": {
   "codemirror_mode": {
    "name": "ipython",
    "version": 3
   },
   "file_extension": ".py",
   "mimetype": "text/x-python",
   "name": "python",
   "nbconvert_exporter": "python",
   "pygments_lexer": "ipython3",
   "version": "3.7.3"
  }
 },
 "nbformat": 4,
 "nbformat_minor": 2
}
